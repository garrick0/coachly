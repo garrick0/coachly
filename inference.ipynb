{
 "cells": [
  {
   "cell_type": "code",
   "execution_count": 2,
   "id": "bee449f0-3d55-46f6-8ff1-22adda1455d8",
   "metadata": {},
   "outputs": [],
   "source": [
    "# pip install transformers datasets evaluate jiwer accelerate librosa soundfile\n"
   ]
  },
  {
   "cell_type": "code",
   "execution_count": 3,
   "id": "70c29987-88d6-4ba2-aedb-55d45bdc4efd",
   "metadata": {},
   "outputs": [
    {
     "name": "stderr",
     "output_type": "stream",
     "text": [
      "Special tokens have been added in the vocabulary, make sure the associated word embeddings are fine-tuned or trained.\n"
     ]
    }
   ],
   "source": [
    "import torch\n",
    "from transformers import AutoModelForSpeechSeq2Seq, AutoProcessor, pipeline\n",
    "from datasets import load_dataset\n",
    "\n",
    "\n",
    "device = \"cuda:0\" if torch.cuda.is_available() else \"cpu\"\n",
    "torch_dtype = torch.float16 if torch.cuda.is_available() else torch.float32\n",
    "\n",
    "model_id = \"openai/whisper-large-v3\"\n",
    "\n",
    "model = AutoModelForSpeechSeq2Seq.from_pretrained(\n",
    "    model_id, torch_dtype=torch_dtype, low_cpu_mem_usage=True, use_safetensors=True\n",
    ")\n",
    "model.to(device)\n",
    "\n",
    "processor = AutoProcessor.from_pretrained(model_id)\n",
    "\n",
    "pipe = pipeline(\n",
    "    \"automatic-speech-recognition\",\n",
    "    model=model,\n",
    "    tokenizer=processor.tokenizer,\n",
    "    feature_extractor=processor.feature_extractor,\n",
    "    max_new_tokens=128,\n",
    "    chunk_length_s=30,\n",
    "    batch_size=16,\n",
    "    return_timestamps=True,\n",
    "    torch_dtype=torch_dtype,\n",
    "    device=device,\n",
    ")\n",
    "\n",
    "# dataset = load_dataset(\"distil-whisper/librispeech_long\", \"clean\", split=\"validation\")\n",
    "# sample = dataset[0][\"audio\"]\n",
    "\n",
    "# result = pipe(sample)\n",
    "# print(result[\"text\"])\n"
   ]
  },
  {
   "cell_type": "code",
   "execution_count": 22,
   "id": "b271c2d6-e9bf-4441-9c03-9503446ad3a8",
   "metadata": {},
   "outputs": [],
   "source": [
    "dataset = load_dataset(\"distil-whisper/librispeech_long\", \"clean\", split=\"validation\")\n",
    "sample = dataset[0][\"audio\"]\n"
   ]
  },
  {
   "cell_type": "code",
   "execution_count": 23,
   "id": "d5a29c40-c6b6-46d9-8e33-625a887eea0e",
   "metadata": {},
   "outputs": [],
   "source": [
    "result = pipe(sample, return_timestamps=True, generate_kwargs={\"language\": \"english\"})\n"
   ]
  },
  {
   "cell_type": "code",
   "execution_count": 20,
   "id": "8e634610-2063-4a8d-a6e7-eb04dc80e892",
   "metadata": {},
   "outputs": [
    {
     "name": "stdout",
     "output_type": "stream",
     "text": [
      "[{'timestamp': (0.0, 5.28), 'text': ' Mr. Quilter is the apostle of the middle classes, and we are glad to welcome his gospel.'}, {'timestamp': (6.34, 10.1), 'text': \" Nor is Mr. Quilter's manner less interesting than his matter.\"}, {'timestamp': (10.92, 17.6), 'text': ' He tells us that at this festive season of the year, with Christmas and roast beef looming before us,'}, {'timestamp': (18.44, 22.58), 'text': ' similes drawn from eating and its results occur most readily to the mind.'}, {'timestamp': (23.16, 28.66), 'text': \" He has grave doubts whether Sir Frederick Leighton's work is really Greek after all,\"}, {'timestamp': (29.1, 32.48), 'text': ' and can discover in it but little of rocky Ithaca.'}, {'timestamp': (33.62, 37.86), 'text': \" Linnell's pictures are a sort of Upguards and Adam paintings,\"}, {'timestamp': (37.86, 42.88), 'text': \" and Mason's exquisite idylls are as national as a jingo poem.\"}, {'timestamp': (44.56, 45.78), 'text': \" Mr. Burkett Foster's\"}, {'timestamp': (45.78, 47.62), 'text': ' landscapes smile at one'}, {'timestamp': (47.62, 49.78), 'text': ' much in the same way that Mr. Carker'}, {'timestamp': (49.78, 51.58), 'text': ' used to flash his teeth.'}, {'timestamp': (52.62, 54.02), 'text': ' And Mr. John Collier'}, {'timestamp': (54.02, 55.9), 'text': ' gives his sitter a cheerful'}, {'timestamp': (55.9, 57.84), 'text': ' slap on the back before'}, {'timestamp': (57.84, 59.72), 'text': ' he says, like a shampooer'}, {'timestamp': (59.72, 60.74), 'text': ' in a Turkish bath,'}, {'timestamp': (61.18, 61.9), 'text': ' Next man!'}]\n"
     ]
    }
   ],
   "source": [
    "print(result['text'])\n",
    "print(result['chunks'])"
   ]
  },
  {
   "cell_type": "code",
   "execution_count": null,
   "id": "9278af0a-b4f8-474a-b90e-b2ec7c754fc0",
   "metadata": {},
   "outputs": [],
   "source": [
    "from transformers import pipeline, AutoModelForCausalLM, AutoModelForSpeechSeq2Seq, AutoProcessor\n",
    "import torch\n",
    "from datasets import load_dataset\n",
    "\n",
    "device = \"cuda:0\" if torch.cuda.is_available() else \"cpu\"\n",
    "torch_dtype = torch.float16 if torch.cuda.is_available() else torch.float32\n",
    "\n",
    "assistant_model_id = \"openai/whisper-tiny\"\n",
    "\n",
    "assistant_model = AutoModelForCausalLM.from_pretrained(\n",
    "    assistant_model_id, torch_dtype=torch_dtype, low_cpu_mem_usage=True, use_safetensors=True\n",
    ")\n",
    "assistant_model.to(device)\n",
    "\n",
    "model_id = \"openai/whisper-large-v3\"\n",
    "\n",
    "model = AutoModelForSpeechSeq2Seq.from_pretrained(\n",
    "    model_id, torch_dtype=torch_dtype, low_cpu_mem_usage=True, use_safetensors=True\n",
    ")\n",
    "model.to(device)\n",
    "\n",
    "processor = AutoProcessor.from_pretrained(model_id)\n",
    "\n",
    "pipe = pipeline(\n",
    "    \"automatic-speech-recognition\",\n",
    "    model=model,\n",
    "    tokenizer=processor.tokenizer,\n",
    "    feature_extractor=processor.feature_extractor,\n",
    "    max_new_tokens=128,\n",
    "    generate_kwargs={\"assistant_model\": assistant_model},\n",
    "    torch_dtype=torch_dtype,\n",
    "    device=device,\n",
    ")\n",
    "\n",
    "dataset = load_dataset(\"hf-internal-testing/librispeech_asr_dummy\", \"clean\", split=\"validation\")\n",
    "sample = dataset[0][\"audio\"]\n",
    "\n",
    "result = pipe(sample)\n",
    "print(result[\"text\"])\n"
   ]
  },
  {
   "cell_type": "code",
   "execution_count": null,
   "id": "85f9cad7-d29c-4b6d-8246-a532c2dc6780",
   "metadata": {},
   "outputs": [],
   "source": [
    "#phoneme transcription\n",
    "https://huggingface.co/docs/transformers/model_doc/wav2vec2_phoneme"
   ]
  },
  {
   "cell_type": "code",
   "execution_count": null,
   "id": "d41822bd-0831-42d1-8ac2-b0457e91fe6f",
   "metadata": {},
   "outputs": [],
   "source": []
  }
 ],
 "metadata": {
  "kernelspec": {
   "display_name": "Python 3 (ipykernel)",
   "language": "python",
   "name": "python3"
  },
  "language_info": {
   "codemirror_mode": {
    "name": "ipython",
    "version": 3
   },
   "file_extension": ".py",
   "mimetype": "text/x-python",
   "name": "python",
   "nbconvert_exporter": "python",
   "pygments_lexer": "ipython3",
   "version": "3.11.6"
  }
 },
 "nbformat": 4,
 "nbformat_minor": 5
}
